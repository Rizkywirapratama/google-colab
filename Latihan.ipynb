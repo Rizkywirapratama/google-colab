{
  "nbformat": 4,
  "nbformat_minor": 0,
  "metadata": {
    "colab": {
      "provenance": [],
      "authorship_tag": "ABX9TyNBp25POByEhha0+ykYvVOv",
      "include_colab_link": true
    },
    "kernelspec": {
      "name": "python3",
      "display_name": "Python 3"
    },
    "language_info": {
      "name": "python"
    }
  },
  "cells": [
    {
      "cell_type": "markdown",
      "metadata": {
        "id": "view-in-github",
        "colab_type": "text"
      },
      "source": [
        "<a href=\"https://colab.research.google.com/github/Rizkywirapratama/google-colab/blob/main/Latihan.ipynb\" target=\"_parent\"><img src=\"https://colab.research.google.com/assets/colab-badge.svg\" alt=\"Open In Colab\"/></a>"
      ]
    },
    {
      "cell_type": "code",
      "execution_count": 26,
      "metadata": {
        "id": "OGm4A0lM3jLD",
        "colab": {
          "base_uri": "https://localhost:8080/"
        },
        "outputId": "f9ef3cfa-5f83-4413-886f-e6b60862b240"
      },
      "outputs": [
        {
          "output_type": "stream",
          "name": "stdout",
          "text": [
            "halo Dina\n"
          ]
        }
      ],
      "source": [
        "def sapa(nama):\n",
        "  print(\"halo\", nama)\n",
        "\n",
        "sapa(\"Dina\")"
      ]
    },
    {
      "cell_type": "code",
      "source": [
        "def luas_persegi(sisi):\n",
        "  return sisi * sisi\n",
        "\n",
        "print(luas_persegi(4))"
      ],
      "metadata": {
        "colab": {
          "base_uri": "https://localhost:8080/"
        },
        "id": "Gm7lYCdc-p4Q",
        "outputId": "9096e66c-62dd-4021-c63c-4355ae9239e3"
      },
      "execution_count": 30,
      "outputs": [
        {
          "output_type": "stream",
          "name": "stdout",
          "text": [
            "16\n"
          ]
        }
      ]
    },
    {
      "cell_type": "code",
      "source": [
        "nama = input(\"masukkan nama anda: \")\n",
        "print(\"halo\", nama)"
      ],
      "metadata": {
        "colab": {
          "base_uri": "https://localhost:8080/"
        },
        "id": "AeA8A78d_R2A",
        "outputId": "1b8cd065-0b00-49a4-c22f-5522142a8605"
      },
      "execution_count": 31,
      "outputs": [
        {
          "output_type": "stream",
          "name": "stdout",
          "text": [
            "masukkan nama anda: Rizky\n",
            "halo Rizky\n"
          ]
        }
      ]
    },
    {
      "cell_type": "code",
      "source": [
        "import math\n",
        "\n",
        "print(math.sqrt(16))\n",
        "print(math.pow(2, 3))"
      ],
      "metadata": {
        "colab": {
          "base_uri": "https://localhost:8080/"
        },
        "id": "mhahe2g6_yuF",
        "outputId": "acf1bc48-c1a5-4fdf-804d-23cfc9388a00"
      },
      "execution_count": 32,
      "outputs": [
        {
          "output_type": "stream",
          "name": "stdout",
          "text": [
            "4.0\n",
            "8.0\n"
          ]
        }
      ]
    },
    {
      "cell_type": "code",
      "source": [
        "#input dari pengguna\n",
        "nama = input(\"masukkan nama pengguna:\")\n",
        "usia = input(\"masukkan usia pengguna:\")\n",
        "\n",
        "#cetak kalimat lengkap\n",
        "print(f\"nama saya {nama} dan saya berusia {usia} tahun.\")"
      ],
      "metadata": {
        "colab": {
          "base_uri": "https://localhost:8080/"
        },
        "id": "jHfU86nHAZBc",
        "outputId": "b8796408-5c91-4308-aa53-f9ba2168b6af"
      },
      "execution_count": 33,
      "outputs": [
        {
          "output_type": "stream",
          "name": "stdout",
          "text": [
            "masukkan nama pengguna:Rizky Wira Pratama\n",
            "masukkan usia pengguna:17\n",
            "nama saya Rizky Wira Pratama dan saya berusia 17 tahun.\n"
          ]
        }
      ]
    },
    {
      "cell_type": "code",
      "source": [
        "# prompt: program penghitung jalan\n",
        "\n",
        "# Program Penghitung Jalan\n",
        "\n",
        "def hitung_jarak(kecepatan, waktu):\n",
        "  \"\"\"Menghitung jarak yang ditempuh.\n",
        "\n",
        "  Args:\n",
        "    kecepatan: Kecepatan dalam km/jam.\n",
        "    waktu: Waktu dalam jam.\n",
        "\n",
        "  Returns:\n",
        "    Jarak yang ditempuh dalam kilometer.\n",
        "  \"\"\"\n",
        "  jarak = kecepatan * waktu\n",
        "  return jarak\n",
        "\n",
        "# Input dari pengguna\n",
        "kecepatan = float(input(\"Masukkan kecepatan (km/jam): \"))\n",
        "waktu = float(input(\"Masukkan waktu (jam): \"))\n",
        "\n",
        "# Menghitung jarak\n",
        "jarak = hitung_jarak(kecepatan, waktu)\n",
        "\n",
        "# Menampilkan hasil\n",
        "print(f\"Jarak yang ditempuh: {jarak} km\")\n"
      ],
      "metadata": {
        "colab": {
          "base_uri": "https://localhost:8080/"
        },
        "id": "iKZNPBXrBCyN",
        "outputId": "a93652e4-597d-431e-cf5e-733f3ace9709"
      },
      "execution_count": 34,
      "outputs": [
        {
          "output_type": "stream",
          "name": "stdout",
          "text": [
            "Masukkan kecepatan (km/jam): 100\n",
            "Masukkan waktu (jam): 01.00\n",
            "Jarak yang ditempuh: 100.0 km\n"
          ]
        }
      ]
    }
  ]
}